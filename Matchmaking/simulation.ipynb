{
 "cells": [
  {
   "cell_type": "markdown",
   "metadata": {},
   "source": [
    "# Here we are going to run some simulations for Red Thread matchmaking!!\n",
    "If all goes well I may even come up with some innovative formulas :3"
   ]
  },
  {
   "cell_type": "markdown",
   "metadata": {},
   "source": [
    "## First we gotta setup some python stuff\n",
    "Run the following commands to get python setup correctly"
   ]
  },
  {
   "cell_type": "code",
   "execution_count": null,
   "metadata": {},
   "outputs": [],
   "source": [
    "!pip3 install numpy matplotlib geopandas contextily rtree geodatasets"
   ]
  },
  {
   "cell_type": "markdown",
   "metadata": {},
   "source": [
    "### Now that we have installed these libraries let's go ahead and import them. we will be using them a lot!!"
   ]
  },
  {
   "cell_type": "code",
   "execution_count": null,
   "metadata": {},
   "outputs": [],
   "source": [
    "import numpy as np\n",
    "import matplotlib.pyplot as plt"
   ]
  },
  {
   "cell_type": "markdown",
   "metadata": {},
   "source": [
    "## Key considerations\n",
    "The following probability distributions will be key to matchmaking"
   ]
  },
  {
   "cell_type": "markdown",
   "metadata": {},
   "source": [
    "### User age"
   ]
  },
  {
   "cell_type": "markdown",
   "metadata": {},
   "source": [
    "First let's define some key parameters. When we get real data we can extract these key paramters from real data!!!! For now we have to be creative"
   ]
  },
  {
   "cell_type": "code",
   "execution_count": null,
   "metadata": {},
   "outputs": [],
   "source": [
    "# Parameters for the normal distribution\n",
    "mean_age = 30  # Average age\n",
    "std_dev_age = 5  # Standard deviation\n",
    "num_of_users = 10000  # Number of users"
   ]
  },
  {
   "cell_type": "markdown",
   "metadata": {},
   "source": [
    "Let's use these parameters to generate some data. We also need to impose the requirement that all users be at least 18 years old."
   ]
  },
  {
   "cell_type": "code",
   "execution_count": null,
   "metadata": {},
   "outputs": [],
   "source": [
    "# Generate a large amount of data to ensure we have enough valid ages\n",
    "initial_sample_size = num_of_users * 2  # Generate twice the required number of users\n",
    "age_data = np.random.normal(mean_age, std_dev_age, initial_sample_size)\n",
    "\n",
    "# Filter out ages below 18\n",
    "age_data = age_data[age_data >= 18]\n",
    "\n",
    "# If we have more than enough valid ages, we take only the first num_of_users\n",
    "if len(age_data) > num_of_users:\n",
    "    age_data = age_data[:num_of_users]\n",
    "else:\n",
    "    # If not enough, we generate more data until we have enough valid ages\n",
    "    while len(age_data) < num_of_users:\n",
    "        additional_data = np.random.normal(mean_age, std_dev_age, num_of_users)\n",
    "        additional_data = additional_data[additional_data >= 18]\n",
    "        age_data = np.concatenate((age_data, additional_data))\n",
    "\n",
    "        # Keep only the required number of users\n",
    "        if len(age_data) > num_of_users:\n",
    "            age_data = age_data[:num_of_users]"
   ]
  },
  {
   "cell_type": "markdown",
   "metadata": {},
   "source": [
    "Now that we have a good dataset let's plot it"
   ]
  },
  {
   "cell_type": "code",
   "execution_count": null,
   "metadata": {},
   "outputs": [],
   "source": [
    "plt.figure(figsize=(10, 6))\n",
    "plt.hist(age_data, bins=30, edgecolor='black', alpha=0.7)\n",
    "plt.title('User Age Distribution')\n",
    "plt.xlabel('Age')\n",
    "plt.ylabel('Frequency')\n",
    "plt.grid(True)\n",
    "plt.show()"
   ]
  },
  {
   "cell_type": "markdown",
   "metadata": {},
   "source": [
    "### Gender Distribution"
   ]
  },
  {
   "cell_type": "code",
   "execution_count": null,
   "metadata": {},
   "outputs": [],
   "source": [
    "# Gender Distribution\n",
    "gender_distribution = [0.7, 0.3]  # 70% male, 30% female\n",
    "\n",
    "# Generate gender data\n",
    "genders = np.random.choice(['Male', 'Female'], size=num_of_users, p=gender_distribution)\n",
    "\n",
    "# Count occurrences of each gender\n",
    "unique, counts = np.unique(genders, return_counts=True)\n",
    "gender_counts = dict(zip(unique, counts))\n",
    "\n",
    "# Plotting the gender distribution\n",
    "plt.figure(figsize=(8, 8))\n",
    "plt.pie(gender_counts.values(), labels=gender_counts.keys(), autopct='%1.1f%%', startangle=140)\n",
    "plt.title('User Gender Distribution')\n",
    "plt.axis('equal')  # Equal aspect ratio ensures that pie is drawn as a circle.\n",
    "plt.show()"
   ]
  },
  {
   "cell_type": "markdown",
   "metadata": {},
   "source": [
    "## User Location"
   ]
  },
  {
   "cell_type": "markdown",
   "metadata": {},
   "source": [
    "This is where it gets hard. Let's assume that everyone is in NYC for now"
   ]
  },
  {
   "cell_type": "code",
   "execution_count": null,
   "metadata": {},
   "outputs": [],
   "source": [
    "import geopandas as gpd\n",
    "from shapely.geometry import Point\n",
    "import contextily as ctx\n",
    "from rtree import index\n",
    "from geodatasets import get_path\n",
    "\n",
    "# Load the built-in NYC borough boundaries dataset\n",
    "nyc_land = gpd.read_file(get_path('nybb'))\n",
    "nyc_land = nyc_land.to_crs(epsg=4326)  # Ensure it is in WGS84 coordinate system\n",
    "\n",
    "# Population densities for NYC boroughs (in people per square mile)\n",
    "# Source: Approximate data from various sources\n",
    "population_densities = {\n",
    "    'Manhattan': 72000,\n",
    "    'Bronx': 33000,\n",
    "    'Brooklyn': 38000,\n",
    "    'Queens': 21000,\n",
    "    'Staten Island': 8300\n",
    "}\n",
    "\n",
    "# Assign probabilities based on relative population densities\n",
    "total_density = sum(population_densities.values())\n",
    "borough_probs = {k: v / total_density for k, v in population_densities.items()}\n",
    "\n",
    "# Parameters\n",
    "num_of_users = 1000\n",
    "\n",
    "# Function to generate random points within a borough\n",
    "def generate_random_points_within_borough(polygon, num_points):\n",
    "    points = []\n",
    "    minx, miny, maxx, maxy = polygon.bounds\n",
    "\n",
    "    while len(points) < num_points:\n",
    "        random_points = [Point(np.random.uniform(minx, maxx), np.random.uniform(miny, maxy)) for _ in range(num_points)]\n",
    "        for point in random_points:\n",
    "            if polygon.contains(point):\n",
    "                points.append(point)\n",
    "                if len(points) >= num_points:\n",
    "                    break\n",
    "    return points\n",
    "\n",
    "# Generate random points for each borough according to their population density probabilities\n",
    "random_points = []\n",
    "for borough, prob in borough_probs.items():\n",
    "    borough_polygon = nyc_land[nyc_land['BoroName'] == borough].geometry.unary_union\n",
    "    num_points = int(prob * num_of_users)\n",
    "    random_points.extend(generate_random_points_within_borough(borough_polygon, num_points))\n",
    "\n",
    "# Create a GeoDataFrame\n",
    "gdf = gpd.GeoDataFrame({'geometry': random_points})\n",
    "gdf.crs = 'EPSG:4326'\n",
    "\n",
    "# Plotting the user locations\n",
    "fig, ax = plt.subplots(figsize=(10, 10))\n",
    "nyc_land.boundary.plot(ax=ax, linewidth=1)\n",
    "gdf.plot(ax=ax, markersize=5, color='blue', alpha=0.6)\n",
    "ctx.add_basemap(ax, crs='EPSG:4326', source=ctx.providers.CartoDB.Positron)\n",
    "plt.title('User Geographical Distribution in New York City')\n",
    "plt.xlabel('Longitude')\n",
    "plt.ylabel('Latitude')\n",
    "plt.show()\n"
   ]
  },
  {
   "cell_type": "markdown",
   "metadata": {},
   "source": [
    "## User BMI"
   ]
  },
  {
   "cell_type": "code",
   "execution_count": null,
   "metadata": {},
   "outputs": [],
   "source": [
    "# Parameters for the normal distribution of BMI\n",
    "mean_bmi_men = 26  # Average BMI for men\n",
    "std_dev_bmi_men = 4  # Standard deviation for men\n",
    "mean_bmi_women = 24  # Average BMI for women\n",
    "std_dev_bmi_women = 4  # Standard deviation for women\n",
    "\n",
    "# Function to generate valid BMI values\n",
    "def generate_valid_bmi(mean, std, num_users):\n",
    "    bmi_data = np.random.normal(mean, std, num_users * 2)  # Generate twice the number of users initially\n",
    "    bmi_data = bmi_data[(bmi_data >= 15) & (bmi_data <= 40)]  # Filter out unrealistic BMI values\n",
    "\n",
    "    while len(bmi_data) < num_users:\n",
    "        additional_data = np.random.normal(mean, std, num_users)\n",
    "        additional_data = additional_data[(additional_data >= 15) & (additional_data <= 40)]\n",
    "        bmi_data = np.concatenate((bmi_data, additional_data))\n",
    "\n",
    "    return bmi_data[:num_users]\n",
    "\n",
    "# Generate BMI data for men and women\n",
    "num_users_men = int(gender_counts['Male'])\n",
    "num_users_women = int(gender_counts['Female'])\n",
    "bmi_data_men = generate_valid_bmi(mean_bmi_men, std_dev_bmi_men, num_users_men)\n",
    "bmi_data_women = generate_valid_bmi(mean_bmi_women, std_dev_bmi_women, num_users_women)\n",
    "\n",
    "# Combine the data\n",
    "bmi_data = np.concatenate((bmi_data_men, bmi_data_women))\n",
    "\n",
    "# Plotting the combined BMI distribution\n",
    "plt.figure(figsize=(10, 6))\n",
    "plt.hist(bmi_data, bins=30, edgecolor='black', alpha=0.7, label='All Users', color='blue')\n",
    "plt.title('User BMI Distribution')\n",
    "plt.xlabel('BMI')\n",
    "plt.ylabel('Frequency')\n",
    "plt.grid(True)\n",
    "plt.legend()\n",
    "plt.show()\n",
    "\n",
    "# Plotting the BMI distribution for men\n",
    "plt.figure(figsize=(10, 6))\n",
    "plt.hist(bmi_data_men, bins=30, edgecolor='black', alpha=0.7, label='Men', color='green')\n",
    "plt.title('Men BMI Distribution')\n",
    "plt.xlabel('BMI')\n",
    "plt.ylabel('Frequency')\n",
    "plt.grid(True)\n",
    "plt.legend()\n",
    "plt.show()\n",
    "\n",
    "# Plotting the BMI distribution for women\n",
    "plt.figure(figsize=(10, 6))\n",
    "plt.hist(bmi_data_women, bins=30, edgecolor='black', alpha=0.7, label='Women', color='red')\n",
    "plt.title('Women BMI Distribution')\n",
    "plt.xlabel('BMI')\n",
    "plt.ylabel('Frequency')\n",
    "plt.grid(True)\n",
    "plt.legend()\n",
    "plt.show()\n"
   ]
  }
 ],
 "metadata": {
  "kernelspec": {
   "display_name": "Python 3",
   "language": "python",
   "name": "python3"
  },
  "language_info": {
   "codemirror_mode": {
    "name": "ipython",
    "version": 3
   },
   "file_extension": ".py",
   "mimetype": "text/x-python",
   "name": "python",
   "nbconvert_exporter": "python",
   "pygments_lexer": "ipython3",
   "version": "3.11.6"
  }
 },
 "nbformat": 4,
 "nbformat_minor": 2
}
