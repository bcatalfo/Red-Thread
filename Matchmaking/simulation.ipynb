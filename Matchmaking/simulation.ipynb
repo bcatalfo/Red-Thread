{
 "cells": [
  {
   "cell_type": "markdown",
   "metadata": {},
   "source": [
    "# Red Thread Matchmaking Simulation\n",
    "Our goal is to simulate dating dynamics as accurately as possible. We hypothesize that we can create an effective matchmaking algorithm by focusing on the following data: BMI, age, location, and gender. We will analyze our algorithm's \"effectiveness\" by analyzing the odds of getting a second date. "
   ]
  },
  {
   "cell_type": "markdown",
   "metadata": {},
   "source": [
    "## Python Setup\n",
    "Run the following commands to get python setup correctly"
   ]
  },
  {
   "cell_type": "code",
   "execution_count": null,
   "metadata": {},
   "outputs": [],
   "source": [
    "!pip3 install numpy matplotlib geopandas contextily rtree geodatasets seaborn"
   ]
  },
  {
   "cell_type": "markdown",
   "metadata": {},
   "source": [
    "## Imports"
   ]
  },
  {
   "cell_type": "code",
   "execution_count": null,
   "metadata": {},
   "outputs": [],
   "source": [
    "import numpy as np\n",
    "import matplotlib.pyplot as plt\n",
    "import seaborn as sns\n",
    "import geopandas as gpd\n",
    "from shapely.geometry import Point\n",
    "import contextily as ctx\n",
    "from geodatasets import get_path\n",
    "from geopy.distance import great_circle"
   ]
  },
  {
   "cell_type": "markdown",
   "metadata": {},
   "source": [
    "## Parameters"
   ]
  },
  {
   "cell_type": "code",
   "execution_count": null,
   "metadata": {},
   "outputs": [],
   "source": [
    "num_of_users = 1000\n",
    "mean_age = 30\n",
    "std_dev_age = 5\n",
    "mean_bmi_men = 29.0\n",
    "std_dev_bmi_men = 4.73\n",
    "mean_bmi_women = 27.7\n",
    "std_dev_bmi_women = 6.15\n",
    "gender_distribution = [0.7, 0.3]"
   ]
  },
  {
   "cell_type": "markdown",
   "metadata": {},
   "source": [
    "## Key Functions"
   ]
  },
  {
   "cell_type": "markdown",
   "metadata": {},
   "source": [
    "### Calculate geographical closeness factor"
   ]
  },
  {
   "cell_type": "code",
   "execution_count": null,
   "metadata": {},
   "outputs": [],
   "source": [
    "def calculate_geographical_closeness(location1, location2):\n",
    "    distance = great_circle((location1.y, location1.x), (location2.y, location2.x)).miles\n",
    "    max_distance = 20  # Assume a max reasonable dating distance in NYC\n",
    "    closeness_factor = 1 - min(distance, max_distance) / max_distance\n",
    "    return closeness_factor"
   ]
  },
  {
   "cell_type": "markdown",
   "metadata": {},
   "source": [
    "### Generate random points within a borough"
   ]
  },
  {
   "cell_type": "code",
   "execution_count": null,
   "metadata": {},
   "outputs": [],
   "source": [
    "def generate_random_points_within_borough(polygon, num_points):\n",
    "    points = []\n",
    "    minx, miny, maxx, maxy = polygon.bounds\n",
    "    while len(points) < num_points:\n",
    "        random_points = [Point(np.random.uniform(minx, maxx), np.random.uniform(miny, maxy)) for _ in range(num_points * 2)]\n",
    "        for point in random_points:\n",
    "            if polygon.contains(point):\n",
    "                points.append(point)\n",
    "                if len(points) >= num_points:\n",
    "                    break\n",
    "    return points"
   ]
  },
  {
   "cell_type": "markdown",
   "metadata": {},
   "source": [
    "### Generate synthetic survey responses"
   ]
  },
  {
   "cell_type": "code",
   "execution_count": null,
   "metadata": {},
   "outputs": [],
   "source": [
    "def generate_survey_responses(odds):\n",
    "    num_of_users = odds.shape[0]\n",
    "    responses = np.zeros((num_of_users, num_of_users))\n",
    "    for i in range(num_of_users):\n",
    "        for j in range(i + 1, num_of_users):\n",
    "            response = np.random.rand() < odds[i, j]\n",
    "            responses[i, j] = responses[j, i] = response\n",
    "    return responses"
   ]
  },
  {
   "cell_type": "markdown",
   "metadata": {},
   "source": [
    "### BMI Classification"
   ]
  },
  {
   "cell_type": "code",
   "execution_count": null,
   "metadata": {},
   "outputs": [],
   "source": [
    "def classify_bmi(bmi):\n",
    "    if bmi < 18.5:\n",
    "        return 'underweight'\n",
    "    elif 18.5 <= bmi < 25.0:\n",
    "        return 'normal'\n",
    "    elif 25.0 <= bmi < 30.0:\n",
    "        return 'overweight'\n",
    "    else:\n",
    "        return 'obese'"
   ]
  },
  {
   "cell_type": "markdown",
   "metadata": {},
   "source": [
    "### Calulate BMI compatibility factor"
   ]
  },
  {
   "cell_type": "code",
   "execution_count": null,
   "metadata": {},
   "outputs": [],
   "source": [
    "def bmi_compatibility(bmi1, bmi2):\n",
    "    class1 = classify_bmi(bmi1)\n",
    "    class2 = classify_bmi(bmi2)\n",
    "    if class1 == class2:\n",
    "        return 1.0  # Full compatibility if in the same category\n",
    "    elif (class1 in ['underweight', 'normal'] and class2 in ['underweight', 'normal']) or \\\n",
    "         (class1 in ['overweight', 'obese'] and class2 in ['overweight', 'obese']):\n",
    "        return 0.5  # Partial compatibility if in adjacent categories\n",
    "    else:\n",
    "        return 0.0  # No compatibility if in non-adjacent categories"
   ]
  },
  {
   "cell_type": "markdown",
   "metadata": {},
   "source": [
    "### Simulate second date odds based on age, BMI, and location"
   ]
  },
  {
   "cell_type": "code",
   "execution_count": null,
   "metadata": {},
   "outputs": [],
   "source": [
    "def simulate_second_date_odds(ages, bmis, locations):\n",
    "    num_of_users = len(ages)\n",
    "    odds = np.zeros((num_of_users, num_of_users))\n",
    "\n",
    "    for i in range(num_of_users):\n",
    "        for j in range(i + 1, num_of_users):\n",
    "            # Age factor: Higher compatibility for closer ages\n",
    "            age_factor = max(0, 1 - abs(ages[i] - ages[j]) / 10)  # Normalize by 10 years, ensure non-negative\n",
    "\n",
    "            # BMI factor: Compatibility based on WHO categories\n",
    "            bmi_factor = bmi_compatibility(bmis[i], bmis[j])\n",
    "\n",
    "            # Geographical closeness factor\n",
    "            location_factor = calculate_geographical_closeness(locations.iloc[i], locations.iloc[j])\n",
    "\n",
    "            # Combine factors to simulate second date odds\n",
    "            odds[i, j] = odds[j, i] = age_factor * bmi_factor * location_factor\n",
    "    \n",
    "    return odds\n"
   ]
  },
  {
   "cell_type": "markdown",
   "metadata": {},
   "source": [
    "### Generate random ages > 18"
   ]
  },
  {
   "cell_type": "code",
   "execution_count": null,
   "metadata": {},
   "outputs": [],
   "source": [
    "def generate_valid_ages(mean, std, num_users):\n",
    "    ages = np.random.normal(mean, std, num_users)\n",
    "    while any(ages < 18):\n",
    "        ages[ages < 18] = np.random.normal(mean, std, np.sum(ages < 18))\n",
    "    return ages"
   ]
  },
  {
   "cell_type": "markdown",
   "metadata": {},
   "source": [
    "## Generate example data"
   ]
  },
  {
   "cell_type": "code",
   "execution_count": null,
   "metadata": {},
   "outputs": [],
   "source": [
    "ages = generate_valid_ages(mean_age, std_dev_age, num_of_users)\n",
    "genders = np.random.choice(['Male', 'Female'], size=num_of_users, p=gender_distribution)\n",
    "\n",
    "# Generate BMIs based on gender\n",
    "bmis = np.array([np.random.normal(mean_bmi_men, std_dev_bmi_men) if gender == 'Male' else np.random.normal(mean_bmi_women, std_dev_bmi_women) for gender in genders])\n",
    "\n",
    "# Generate geographical data (NYC boroughs)\n",
    "nyc_land = gpd.read_file(get_path('nybb')).to_crs(epsg=4326)\n",
    "population_densities = {\n",
    "    'Manhattan': 72000,\n",
    "    'Bronx': 33000,\n",
    "    'Brooklyn': 38000,\n",
    "    'Queens': 21000,\n",
    "    'Staten Island': 8300\n",
    "}\n",
    "total_density = sum(population_densities.values())\n",
    "borough_probs = {k: v / total_density for k, v in population_densities.items()}\n",
    "\n",
    "random_points = []\n",
    "for borough, prob in borough_probs.items():\n",
    "    borough_polygon = nyc_land[nyc_land['BoroName'] == borough].geometry.unary_union\n",
    "    num_points = int(prob * num_of_users)\n",
    "    points = generate_random_points_within_borough(borough_polygon, num_points)\n",
    "    while len(points) < num_points:\n",
    "        additional_points = generate_random_points_within_borough(borough_polygon, num_points - len(points))\n",
    "        points.extend(additional_points)\n",
    "    random_points.extend(points)"
   ]
  },
  {
   "cell_type": "markdown",
   "metadata": {},
   "source": [
    "## Data Preprocessing"
   ]
  },
  {
   "cell_type": "markdown",
   "metadata": {},
   "source": [
    "### Ensure the length consistency"
   ]
  },
  {
   "cell_type": "code",
   "execution_count": null,
   "metadata": {},
   "outputs": [],
   "source": [
    "random_points = random_points[:num_of_users]\n",
    "geo_df = gpd.GeoDataFrame({'geometry': random_points})\n",
    "geo_df.crs = 'EPSG:4326'\n",
    "locations = geo_df['geometry']"
   ]
  },
  {
   "cell_type": "markdown",
   "metadata": {},
   "source": [
    "### Ensure all arrays are of the same length"
   ]
  },
  {
   "cell_type": "code",
   "execution_count": null,
   "metadata": {},
   "outputs": [],
   "source": [
    "min_length = min(len(ages), len(bmis), len(genders), len(locations))\n",
    "ages = ages[:min_length]\n",
    "bmis = bmis[:min_length]\n",
    "genders = genders[:min_length]\n",
    "locations = locations[:min_length]\n",
    "print(f\"Generated {min_length} users\")"
   ]
  },
  {
   "cell_type": "markdown",
   "metadata": {},
   "source": [
    "## Calculations"
   ]
  },
  {
   "cell_type": "markdown",
   "metadata": {},
   "source": [
    "### Calculate second date odds"
   ]
  },
  {
   "cell_type": "code",
   "execution_count": null,
   "metadata": {},
   "outputs": [],
   "source": [
    "second_date_odds_matrix = simulate_second_date_odds(ages, bmis, locations)"
   ]
  },
  {
   "cell_type": "markdown",
   "metadata": {},
   "source": [
    "### Calculate survey responses"
   ]
  },
  {
   "cell_type": "code",
   "execution_count": null,
   "metadata": {},
   "outputs": [],
   "source": [
    "survey_responses = generate_survey_responses(second_date_odds_matrix)"
   ]
  },
  {
   "cell_type": "markdown",
   "metadata": {},
   "source": [
    "### Flatten the upper triangle of the matrixes for plotting"
   ]
  },
  {
   "cell_type": "code",
   "execution_count": null,
   "metadata": {},
   "outputs": [],
   "source": [
    "num_of_users = len(ages)\n",
    "second_date_odds = second_date_odds_matrix[np.triu_indices(num_of_users, 1)]\n",
    "survey_responses_flat = survey_responses[np.triu_indices(num_of_users, 1)]"
   ]
  },
  {
   "cell_type": "markdown",
   "metadata": {},
   "source": [
    "### Calculate distances for location pairs"
   ]
  },
  {
   "cell_type": "code",
   "execution_count": null,
   "metadata": {},
   "outputs": [],
   "source": [
    "distances = [great_circle((locations.iloc[i].y, locations.iloc[i].x), (locations.iloc[j].y, locations.iloc[j].x)).miles for i in range(num_of_users) for j in range(i + 1, num_of_users)]"
   ]
  },
  {
   "cell_type": "markdown",
   "metadata": {},
   "source": [
    "### Prepare data for scatter plots"
   ]
  },
  {
   "cell_type": "code",
   "execution_count": null,
   "metadata": {},
   "outputs": [],
   "source": [
    "ages_pairs = [(ages[i], ages[j]) for i in range(num_of_users) for j in range(i + 1, num_of_users)]\n",
    "bmis_pairs = [(bmis[i], bmis[j]) for i in range(num_of_users) for j in range(i + 1, num_of_users)]"
   ]
  },
  {
   "cell_type": "markdown",
   "metadata": {},
   "source": [
    "### Extract ages and BMIs for pairs"
   ]
  },
  {
   "cell_type": "code",
   "execution_count": null,
   "metadata": {},
   "outputs": [],
   "source": [
    "ages_diff = [abs(age1 - age2) for age1, age2 in ages_pairs]\n",
    "bmis_diff = [abs(bmi1 - bmi2) for bmi1, bmi2 in bmis_pairs]"
   ]
  },
  {
   "cell_type": "markdown",
   "metadata": {},
   "source": [
    "### Create buckets for visualization"
   ]
  },
  {
   "cell_type": "code",
   "execution_count": null,
   "metadata": {},
   "outputs": [],
   "source": [
    "age_buckets = np.digitize(ages_diff, bins=np.arange(0, 21, 5))  # Age difference buckets: 0-5, 5-10, 10-15, 15-20\n",
    "bmi_buckets = np.digitize(bmis_diff, bins=np.arange(0, 21, 5))  # BMI difference buckets: 0-5, 5-10, 10-15, 15-20\n",
    "distance_buckets = np.digitize(distances, bins=np.arange(0, 21, 5))  # Distance buckets: 0-5, 5-10, 10-15, 15-20"
   ]
  },
  {
   "cell_type": "markdown",
   "metadata": {},
   "source": [
    "### Calculate average second date odds for each bucket"
   ]
  },
  {
   "cell_type": "code",
   "execution_count": null,
   "metadata": {},
   "outputs": [],
   "source": [
    "age_bucket_means = [np.mean(survey_responses_flat[age_buckets == i]) for i in range(1, 5)]\n",
    "bmi_bucket_means = [np.mean(survey_responses_flat[bmi_buckets == i]) for i in range(1, 5)]\n",
    "distance_bucket_means = [np.mean(survey_responses_flat[distance_buckets == i]) for i in range(1, 5)]"
   ]
  },
  {
   "cell_type": "markdown",
   "metadata": {},
   "source": [
    "## Analysis"
   ]
  },
  {
   "cell_type": "markdown",
   "metadata": {},
   "source": [
    "### Set the size of the plot"
   ]
  },
  {
   "cell_type": "code",
   "execution_count": null,
   "metadata": {},
   "outputs": [],
   "source": [
    "plt.figure(figsize=(15, 5))"
   ]
  },
  {
   "cell_type": "markdown",
   "metadata": {},
   "source": [
    "### Age vs. Second Date Odds"
   ]
  },
  {
   "cell_type": "code",
   "execution_count": null,
   "metadata": {},
   "outputs": [],
   "source": [
    "plt.bar(np.arange(1, 5), age_bucket_means, tick_label=['0-5', '5-10', '10-15', '15-20'])\n",
    "plt.title('Age Difference vs. Second Date Odds')\n",
    "plt.xlabel('Age Difference (years)')\n",
    "plt.ylabel('Average Second Date Odds')"
   ]
  },
  {
   "cell_type": "markdown",
   "metadata": {},
   "source": [
    "### BMI vs. Second Date Odds"
   ]
  },
  {
   "cell_type": "code",
   "execution_count": null,
   "metadata": {},
   "outputs": [],
   "source": [
    "plt.bar(np.arange(1, 5), bmi_bucket_means, tick_label=['0-5', '5-10', '10-15', '15-20'])\n",
    "plt.title('BMI Difference vs. Second Date Odds')\n",
    "plt.xlabel('BMI Difference')\n",
    "plt.ylabel('Average Second Date Odds')"
   ]
  },
  {
   "cell_type": "markdown",
   "metadata": {},
   "source": [
    "### Distance vs. Second Date Odds"
   ]
  },
  {
   "cell_type": "code",
   "execution_count": null,
   "metadata": {},
   "outputs": [],
   "source": [
    "plt.bar(np.arange(1, 5), distance_bucket_means, tick_label=['0-5', '5-10', '10-15', '15-20'])\n",
    "plt.title('Distance vs. Second Date Odds')\n",
    "plt.xlabel('Distance (miles)')\n",
    "plt.ylabel('Average Second Date Odds')"
   ]
  },
  {
   "cell_type": "markdown",
   "metadata": {},
   "source": [
    "### Geographical Location"
   ]
  },
  {
   "cell_type": "code",
   "execution_count": null,
   "metadata": {},
   "outputs": [],
   "source": [
    "# Add gender information to the geo_df DataFrame\n",
    "geo_df['gender'] = genders\n",
    "\n",
    "# Plotting the geographical locations of users with different colors for men and women\n",
    "plt.figure(figsize=(10, 10))\n",
    "\n",
    "# Plot boundaries of NYC boroughs\n",
    "ax = plt.gca()\n",
    "nyc_land.boundary.plot(ax=ax, linewidth=1, color='black')\n",
    "\n",
    "# Plot men and women in different colors\n",
    "colors = {'Male': 'blue', 'Female': 'red'}\n",
    "geo_df['color'] = geo_df['gender'].apply(lambda x: colors[x])\n",
    "geo_df.plot(ax=ax, color=geo_df['color'], markersize=50, alpha=0.6)\n",
    "\n",
    "# Add basemap\n",
    "ctx.add_basemap(ax, crs='EPSG:4326', source=ctx.providers.CartoDB.Positron)\n",
    "\n",
    "plt.title('Geographical Locations of Users')\n",
    "plt.xlabel('Longitude')\n",
    "plt.ylabel('Latitude')\n",
    "plt.legend(handles=[plt.Line2D([0], [0], marker='o', color='w', markerfacecolor='blue', markersize=10, label='Male'),\n",
    "                    plt.Line2D([0], [0], marker='o', color='w', markerfacecolor='red', markersize=10, label='Female')])"
   ]
  },
  {
   "cell_type": "markdown",
   "metadata": {},
   "source": [
    "### Age distribution"
   ]
  },
  {
   "cell_type": "code",
   "execution_count": null,
   "metadata": {},
   "outputs": [],
   "source": [
    "plt.figure(figsize=(10, 6))\n",
    "sns.histplot(ages, bins=30, kde=True)\n",
    "plt.title('User Age Distribution')\n",
    "plt.xlabel('Age')\n",
    "plt.ylabel('Frequency')\n",
    "plt.grid(True)"
   ]
  },
  {
   "cell_type": "markdown",
   "metadata": {},
   "source": [
    "### Gender Distribution"
   ]
  },
  {
   "cell_type": "code",
   "execution_count": null,
   "metadata": {},
   "outputs": [],
   "source": [
    "gender_counts = geo_df['gender'].value_counts()\n",
    "plt.figure(figsize=(8, 8))\n",
    "plt.pie(gender_counts, labels=gender_counts.index, autopct='%1.1f%%', startangle=140, colors=['blue', 'red'], textprops={'fontsize': 14})\n",
    "plt.title('User Gender Distribution', fontsize=16, pad=20) \n",
    "plt.axis('equal')\n",
    "plt.show()"
   ]
  },
  {
   "cell_type": "markdown",
   "metadata": {},
   "source": [
    "### BMI distributions for men and women"
   ]
  },
  {
   "cell_type": "code",
   "execution_count": null,
   "metadata": {},
   "outputs": [],
   "source": [
    "plt.figure(figsize=(10, 6))\n",
    "sns.histplot(bmis[genders == 'Male'], bins=30, kde=True, color='blue', label='Male')\n",
    "sns.histplot(bmis[genders == 'Female'], bins=30, kde=True, color='red', label='Female')\n",
    "plt.title('BMI Distribution by Gender')\n",
    "plt.xlabel('BMI')\n",
    "plt.ylabel('Frequency')\n",
    "plt.legend()\n",
    "plt.grid(True)"
   ]
  }
 ],
 "metadata": {
  "kernelspec": {
   "display_name": "Python 3",
   "language": "python",
   "name": "python3"
  },
  "language_info": {
   "codemirror_mode": {
    "name": "ipython",
    "version": 3
   },
   "file_extension": ".py",
   "mimetype": "text/x-python",
   "name": "python",
   "nbconvert_exporter": "python",
   "pygments_lexer": "ipython3",
   "version": "3.11.6"
  }
 },
 "nbformat": 4,
 "nbformat_minor": 2
}
